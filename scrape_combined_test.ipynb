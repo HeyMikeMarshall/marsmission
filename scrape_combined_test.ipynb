{
 "cells": [
  {
   "cell_type": "code",
   "execution_count": 1,
   "metadata": {},
   "outputs": [],
   "source": [
    "def scrape():    \n",
    "    from splinter import Browser\n",
    "    from bs4 import BeautifulSoup\n",
    "    import pandas as pd\n",
    "    import time\n",
    "\n",
    "\n",
    "    executable_path = {'executable_path': '/usr/local/bin/chromedriver'}\n",
    "    browser = Browser('chrome', **executable_path, headless=False)\n",
    "    time.sleep(3)\n",
    "\n",
    "    url = 'https://mars.nasa.gov/news/'\n",
    "    browser.visit(url)\n",
    "    time.sleep(1)\n",
    "\n",
    "    html = browser.html\n",
    "    soup = BeautifulSoup(html, 'html.parser')\n",
    "    news_title = soup.find('div', class_='content_title').text\n",
    "    news_p = soup.find('div', class_='article_teaser_body').text\n",
    "    \n",
    "    url = 'https://www.jpl.nasa.gov/spaceimages/?search=&category=Mars'\n",
    "    browser.visit(url)\n",
    "    time.sleep(1)\n",
    "    browser.click_link_by_partial_text('FULL IMAGE')\n",
    "    time.sleep(1)\n",
    "    featured_image_url = browser.find_by_css('.fancybox-image')['src']\n",
    "\n",
    "    url = 'https://twitter.com/marswxreport?lang=en'\n",
    "    browser.visit(url)\n",
    "    time.sleep(1)\n",
    "\n",
    "    mars_weather = ''\n",
    "    i = 0\n",
    "    while 'InSight' not in mars_weather:\n",
    "        mars_weather = browser.find_by_css('.js-tweet-text-container')[i].find_by_tag('p').text\n",
    "        i += 1\n",
    "\n",
    "\n",
    "    url = 'https://space-facts.com/mars/'\n",
    "    mars_facts = pd.read_html(url)[0]\n",
    "    mars_facts.columns = ['a','b']\n",
    "    mars_facts_df = mars_facts.set_index('a')\n",
    "    mars_facts_df.index.names = ['']\n",
    "    mars_dict = {}\n",
    "    for row in mars_facts_df.iterrows():\n",
    "        mars_dict[row[0][:-1]] = row[1][0]\n",
    "\n",
    "\n",
    "    hemisphere_image_urls = [\n",
    "        {\"title\": \"Valles Marineris Hemisphere\", \"img_url\": \"https://astropedia.astrogeology.usgs.gov/download/Mars/Viking/valles_marineris_enhanced.tif/full.jpg\"},\n",
    "        {\"title\": \"Cerberus Hemisphere\", \"img_url\": \"https://astropedia.astrogeology.usgs.gov/download/Mars/Viking/cerberus_enhanced.tif/full.jpg\"},\n",
    "        {\"title\": \"Schiaparelli Hemisphere\", \"img_url\": \"https://astropedia.astrogeology.usgs.gov/download/Mars/Viking/schiaparelli_enhanced.tif/full.jpg\"},\n",
    "        {\"title\": \"Syrtis Major Hemisphere\", \"img_url\": \"https://astropedia.astrogeology.usgs.gov/download/Mars/Viking/syrtis_major_enhanced.tif/full.jpg\"},\n",
    "    ]\n",
    "\n",
    "    browser.quit()\n",
    "    \n",
    "    dict_out = {'news_title': news_title,\n",
    "                'news_p': news_p,\n",
    "                'featured_image': featured_image_url,\n",
    "                'mars_weather': mars_weather,\n",
    "                'mars_facts': mars_dict,\n",
    "                'hemisphere_imgs': hemisphere_image_urls}\n",
    "    \n",
    "    return dict_out"
   ]
  },
  {
   "cell_type": "code",
   "execution_count": null,
   "metadata": {},
   "outputs": [],
   "source": [
    "scrape()"
   ]
  },
  {
   "cell_type": "code",
   "execution_count": 2,
   "metadata": {},
   "outputs": [
    {
     "name": "stderr",
     "output_type": "stream",
     "text": [
      "/anaconda3/envs/PythonData/lib/python3.6/site-packages/ipykernel_launcher.py:11: DeprecationWarning: update is deprecated. Use replace_one, update_one or update_many instead.\n",
      "  # This is added back by InteractiveShellApp.init_path()\n"
     ]
    },
    {
     "data": {
      "text/plain": [
       "{'n': 1, 'nModified': 1, 'ok': 1.0, 'updatedExisting': True}"
      ]
     },
     "execution_count": 2,
     "metadata": {},
     "output_type": "execute_result"
    }
   ],
   "source": [
    "from flask import Flask, render_template, redirect\n",
    "from flask_pymongo import PyMongo\n",
    "import time\n",
    "\n",
    "app = Flask(__name__)\n",
    "app.config[\"MONGO_URI\"] = \"mongodb://localhost:27017/mars_db\"\n",
    "mongo = PyMongo(app)\n",
    "\n",
    "mars_data = mongo.db.scrapes\n",
    "scrape_data = scrape()\n",
    "mars_data.update({}, scrape_data, upsert=True)"
   ]
  },
  {
   "cell_type": "code",
   "execution_count": null,
   "metadata": {},
   "outputs": [],
   "source": []
  }
 ],
 "metadata": {
  "kernelspec": {
   "display_name": "Python 3",
   "language": "python",
   "name": "python3"
  },
  "language_info": {
   "codemirror_mode": {
    "name": "ipython",
    "version": 3
   },
   "file_extension": ".py",
   "mimetype": "text/x-python",
   "name": "python",
   "nbconvert_exporter": "python",
   "pygments_lexer": "ipython3",
   "version": "3.6.7"
  }
 },
 "nbformat": 4,
 "nbformat_minor": 2
}
